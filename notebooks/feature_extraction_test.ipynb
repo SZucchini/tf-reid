{
 "cells": [
  {
   "cell_type": "code",
   "execution_count": 1,
   "metadata": {},
   "outputs": [],
   "source": [
    "from colorthief import ColorThief"
   ]
  }
 ],
 "metadata": {
  "kernelspec": {
   "display_name": "Python 3",
   "language": "python",
   "name": "python3"
  },
  "language_info": {
   "codemirror_mode": {
    "name": "ipython",
    "version": 3
   },
   "file_extension": ".py",
   "mimetype": "text/x-python",
   "name": "python",
   "nbconvert_exporter": "python",
   "pygments_lexer": "ipython3",
   "version": "3.8.16"
  },
  "orig_nbformat": 4,
  "vscode": {
   "interpreter": {
    "hash": "daac3c1d7afd053ff6bebbc945b4d341d3b421a4332ba1bf27d30f31e9fff628"
   }
  }
 },
 "nbformat": 4,
 "nbformat_minor": 2
}
