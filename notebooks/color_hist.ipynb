{
 "cells": [
  {
   "cell_type": "code",
   "execution_count": 1,
   "metadata": {},
   "outputs": [],
   "source": [
    "import glob\n",
    "from natsort import natsorted\n",
    "\n",
    "import cv2\n",
    "import numpy as np"
   ]
  },
  {
   "cell_type": "code",
   "execution_count": 3,
   "metadata": {},
   "outputs": [],
   "source": [
    "def hist_sim(candidates_hist, query_hist):\n",
    "    corrs = []\n",
    "    if candidates_hist.ndim == 1:\n",
    "        candidates_hist = np.array([candidates_hist])\n",
    "    for hist in candidates_hist:\n",
    "        corr = cv2.compareHist(hist, query_hist, cv2.HISTCMP_CORREL)\n",
    "        corrs.append(corr)\n",
    "    return np.array(corrs)\n",
    "\n",
    "def get_hist(cv_img, bins=9, part=\"upper\"):\n",
    "    bgr_hist = []\n",
    "    \n",
    "    if part == \"upper\":\n",
    "        data = cv_img[:cv_img.shape[0]//2, :, :]\n",
    "    elif part == \"all\":\n",
    "        data = cv_img\n",
    "    elif part == \"lower\":\n",
    "        data = cv_img[cv_img.shape[0]//2:, :, :]\n",
    "\n",
    "    for j in range(3):\n",
    "        hist = cv2.calcHist([data], [j], None, [bins], [0, 256])[1:]\n",
    "        # 改善の余地あり？\n",
    "        hist = cv2.normalize(hist, hist, 0, 255, cv2.NORM_MINMAX)\n",
    "        bgr_hist.append(hist.reshape(bins-1,))\n",
    "\n",
    "    bgr_hist = np.array(bgr_hist)\n",
    "    bgr_hist = bgr_hist.reshape(-1)\n",
    "    return bgr_hist"
   ]
  },
  {
   "cell_type": "code",
   "execution_count": 2,
   "metadata": {},
   "outputs": [],
   "source": [
    "files = natsorted(glob.glob(\"../data/interim/param_test/color_sim/*.jpg\"))"
   ]
  },
  {
   "cell_type": "code",
   "execution_count": 8,
   "metadata": {},
   "outputs": [],
   "source": [
    "all_hists = []\n",
    "upper_hists = []\n",
    "lower_hists = []\n",
    "for f in files:\n",
    "    img = cv2.imread(f)\n",
    "    all_hist = get_hist(img, part=\"all\")\n",
    "    all_hists.append(all_hist)\n",
    "    upper_hist = get_hist(img, part=\"upper\")\n",
    "    upper_hists.append(upper_hist)\n",
    "    lower_hist = get_hist(img, part=\"lower\")\n",
    "    lower_hists.append(lower_hist)\n",
    "\n",
    "all_hists = np.array(all_hists)\n",
    "upper_hists = np.array(upper_hists)\n",
    "lower_hists = np.array(lower_hists)"
   ]
  },
  {
   "cell_type": "code",
   "execution_count": 17,
   "metadata": {},
   "outputs": [
    {
     "name": "stdout",
     "output_type": "stream",
     "text": [
      "g_f482.jpg 0.6529394626192306\n",
      "g_f487.jpg 0.7734194731046621\n",
      "g_f501.jpg 0.8858008784567661\n",
      "g_f525.jpg 0.7961173568688024\n",
      "h_f500.jpg 0.0017811661694498594\n",
      "h_f509.jpg -0.044086016001089835\n",
      "h_f512.jpg -0.01628393046878273\n",
      "h_f517.jpg 0.017937723248521362\n",
      "h_f520.jpg 0.09118741346941332\n",
      "h_f529.jpg 0.2668900975943421\n",
      "h_f533.jpg 0.2556725934741688\n",
      "h_f535.jpg 0.28657451668804024\n",
      "h_f537.jpg 0.3082470055144498\n",
      "h_f542.jpg 0.40313659582287753\n",
      "k_f500.jpg 0.6352881716000175\n",
      "k_f506.jpg 0.4759073024989699\n",
      "k_f510.jpg 0.6175927519718438\n",
      "k_f516.jpg 0.6219077377123665\n",
      "k_f521.jpg 0.6587576304039066\n",
      "k_f526.jpg 0.6528023117648726\n",
      "k_f529.jpg 0.5720139156937765\n",
      "k_f535.jpg 0.666193845518248\n",
      "k_f541.jpg 0.6433150008822643\n",
      "k_f550.jpg 0.6060401755097075\n",
      "m_f381.jpg 0.27354437606688914\n",
      "m_f400.jpg 0.5128378565810298\n",
      "m_f433.jpg 0.5365670861938844\n",
      "m_f441.jpg 0.5442931733361611\n",
      "m_f443.jpg 0.5285712373706705\n",
      "m_f449.jpg 0.48851106774225417\n",
      "m_f458.jpg 0.5186491277872666\n",
      "m_f464.jpg 0.5355576117807005\n",
      "m_f467.jpg 0.5388434356397018\n",
      "m_f490.jpg 0.4610035693653363\n",
      "n_f535.jpg 0.47543362502483916\n",
      "n_f539.jpg 0.6307290577581574\n",
      "n_f543.jpg 0.5759806404268549\n",
      "n_f547.jpg 0.5174151194143312\n",
      "n_f548.jpg 0.6024229044856494\n",
      "n_f551.jpg 0.5295264635580399\n",
      "n_f559.jpg 0.4539051526514198\n",
      "n_f563.jpg 0.4857262978497233\n",
      "n_f565.jpg 0.6395128996951779\n",
      "n_f566.jpg 0.45330305745149435\n",
      "t_f1.jpg 0.47641299690228806\n",
      "t_f9.jpg 0.5385754586099952\n",
      "t_f15.jpg 0.6070093635457453\n",
      "t_f30.jpg 0.7486445244033398\n",
      "t_f36.jpg 0.5698512121206456\n",
      "t_f39.jpg 0.717517104988304\n",
      "t_f52.jpg 0.7915402047387372\n",
      "t_f54.jpg 0.8434454125237322\n",
      "t_f59.jpg 0.8864676583806184\n",
      "t_f65.jpg 0.873914701728235\n",
      "y_f6.jpg 0.5172974930145481\n",
      "y_f15.jpg 0.43770990247091424\n",
      "y_f20.jpg 0.536362200170228\n",
      "y_f30.jpg 0.6249378571205808\n",
      "y_f36.jpg 0.500772495093548\n",
      "y_f39.jpg 0.5866486103847244\n",
      "y_f52.jpg 0.49274024852187587\n",
      "y_f59.jpg 0.5006174150147639\n",
      "y_f65.jpg 0.5414057799483462\n",
      "y_f80.jpg 0.5918252463185669\n"
     ]
    }
   ],
   "source": [
    "f1 = hist_sim(upper_hists[6:], upper_hists[5])\n",
    "for f, sim in zip(files[6:], f1):\n",
    "    print(f.split('/')[-1], sim)"
   ]
  },
  {
   "cell_type": "code",
   "execution_count": 27,
   "metadata": {},
   "outputs": [
    {
     "name": "stdout",
     "output_type": "stream",
     "text": [
      "g_f430.jpg 61.9129086974323\n",
      "g_f460.jpg 60.510093483267845\n",
      "g_f471.jpg 74.94217537695799\n",
      "g_f487.jpg 68.4588512681819\n",
      "h_f500.jpg 64.14415366371972\n",
      "h_f509.jpg 73.51412855446515\n",
      "h_f512.jpg 69.584757823107\n",
      "h_f517.jpg 70.86971841774672\n",
      "h_f520.jpg 61.530554773303294\n",
      "h_f535.jpg 69.85655443065811\n",
      "k_f510.jpg 63.365254042995964\n",
      "k_f521.jpg 68.53467437208268\n",
      "k_f526.jpg 62.39172236974636\n",
      "k_f529.jpg 63.46825559893158\n",
      "k_f541.jpg 65.16091876901055\n",
      "k_f550.jpg 66.52996442782066\n",
      "m_f441.jpg 65.87292485676409\n",
      "m_f443.jpg 60.62737538621388\n",
      "m_f458.jpg 61.15378987415861\n",
      "n_f539.jpg 62.18865298512362\n",
      "n_f543.jpg 63.29960724366784\n",
      "n_f548.jpg 63.81202472087286\n",
      "n_f563.jpg 69.72572244623656\n",
      "n_f565.jpg 62.03597372075633\n",
      "t_f1.jpg 60.33887043189369\n",
      "t_f54.jpg 71.08284452034452\n",
      "t_f59.jpg 66.53596356482603\n",
      "t_f65.jpg 60.94379399917178\n",
      "y_f20.jpg 66.18394899197192\n",
      "y_f59.jpg 60.49990729581904\n",
      "y_f65.jpg 63.31046096041055\n",
      "y_f80.jpg 68.08313277176093\n"
     ]
    }
   ],
   "source": [
    "for f in files:\n",
    "    img = cv2.imread(f)\n",
    "    ratio = (np.count_nonzero(np.all(img == 0, axis=2)) / (img.shape[0] * img.shape[1])) * 100\n",
    "    if ratio > 60:\n",
    "        print(f.split('/')[-1], ratio)"
   ]
  }
 ],
 "metadata": {
  "kernelspec": {
   "display_name": "Python 3",
   "language": "python",
   "name": "python3"
  },
  "language_info": {
   "codemirror_mode": {
    "name": "ipython",
    "version": 3
   },
   "file_extension": ".py",
   "mimetype": "text/x-python",
   "name": "python",
   "nbconvert_exporter": "python",
   "pygments_lexer": "ipython3",
   "version": "3.8.16"
  },
  "orig_nbformat": 4,
  "vscode": {
   "interpreter": {
    "hash": "a436f4b10d19d1719497b71eef71fec60e96deb2c8bf26df651217a07a057ecb"
   }
  }
 },
 "nbformat": 4,
 "nbformat_minor": 2
}
