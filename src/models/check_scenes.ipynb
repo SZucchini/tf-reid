{
 "cells": [
  {
   "cell_type": "code",
   "execution_count": 1,
   "metadata": {},
   "outputs": [],
   "source": [
    "import pickle\n",
    "\n",
    "with open('../../models/scenes.pickle', mode='br') as f:\n",
    "    scenes = pickle.load(f)"
   ]
  },
  {
   "cell_type": "code",
   "execution_count": 31,
   "metadata": {},
   "outputs": [
    {
     "name": "stdout",
     "output_type": "stream",
     "text": [
      "start: 0.6, end: 3.8, runner: 6\n",
      "start: 13.5, end: 17.0, runner: 4\n",
      "start: 18.6, end: 21.6, runner: 7\n",
      "start: 44.1, end: 46.5, runner: 3\n",
      "start: 50.0, end: 52.2, runner: 2\n",
      "start: 64.1, end: 66.7, runner: 3\n",
      "start: 69.5, end: 69.7, runner: 1\n",
      "start: 85.9, end: 90.8, runner: 8\n",
      "start: 105.0, end: 111.6, runner: 8\n",
      "start: 122.3, end: 125.5, runner: 1\n",
      "start: 135.7, end: 139.6, runner: 6\n",
      "start: 149.4, end: 151.7, runner: 2\n",
      "start: 154.8, end: 160.6, runner: 8\n",
      "start: 179.6, end: 181.7, runner: 3\n",
      "start: 183.1, end: 186.2, runner: 7\n",
      "start: 210.2, end: 216.1, runner: 6\n",
      "start: 229.3, end: 232.4, runner: 1\n",
      "start: 241.0, end: 247.2, runner: 7\n",
      "start: 249.5, end: 252.3, runner: 1\n",
      "start: 256.7, end: 256.7, runner: 1\n"
     ]
    }
   ],
   "source": [
    "for scene in scenes:\n",
    "    print('start: {0:.1f}, end: {1:.1f}, runner: {2}'.format(scene.start / 60, \n",
    "                                                             scene.last / 60,\n",
    "                                                             len(scene.shoe_score)))"
   ]
  },
  {
   "cell_type": "code",
   "execution_count": 27,
   "metadata": {},
   "outputs": [
    {
     "data": {
      "text/plain": [
       "8"
      ]
     },
     "execution_count": 27,
     "metadata": {},
     "output_type": "execute_result"
    }
   ],
   "source": [
    "len(scenes[12].img_file)"
   ]
  },
  {
   "attachments": {},
   "cell_type": "markdown",
   "metadata": {},
   "source": [
    "start: 0.6, end: 3.75\n",
    "\n",
    "start: 13.516666666666667, end: 16.966666666666665\n",
    "\n",
    "start: 18.6, end: 21.616666666666667\n",
    "\n",
    "start: 44.1, end: 46.46666666666667\n",
    "\n",
    "start: 49.95, end: 52.2\n",
    "\n",
    "start: 64.1, end: 66.68333333333334\n",
    "\n",
    "start: 69.5, end: 69.7 error!!!!!\n",
    "\n",
    "start: 85.9, end: 90.83333333333333\n",
    "\n",
    "start: 104.95, end: 111.58333333333333\n",
    "\n",
    "start: 122.33333333333333, end: 125.5\n",
    "\n",
    "start: 135.68333333333334, end: 139.61666666666667\n",
    "\n",
    "start: 149.38333333333333, end: 151.65\n",
    "\n",
    "start: 154.8, end: 160.55\n",
    "\n",
    "start: 179.61666666666667, end: 181.71666666666667\n",
    "\n",
    "start: 183.05, end: 186.15\n",
    "\n",
    "start: 210.2, end: 216.11666666666667\n",
    "\n",
    "start: 229.31666666666666, end: 232.38333333333333\n",
    "\n",
    "start: 241.0, end: 247.23333333333332\n",
    "\n",
    "start: 249.48333333333332, end: 252.3\n",
    "\n",
    "start: 256.68333333333334, end: 256.68333333333334 error!!!!!"
   ]
  }
 ],
 "metadata": {
  "kernelspec": {
   "display_name": "Python 3",
   "language": "python",
   "name": "python3"
  },
  "language_info": {
   "codemirror_mode": {
    "name": "ipython",
    "version": 3
   },
   "file_extension": ".py",
   "mimetype": "text/x-python",
   "name": "python",
   "nbconvert_exporter": "python",
   "pygments_lexer": "ipython3",
   "version": "3.8.16"
  },
  "orig_nbformat": 4,
  "vscode": {
   "interpreter": {
    "hash": "a436f4b10d19d1719497b71eef71fec60e96deb2c8bf26df651217a07a057ecb"
   }
  }
 },
 "nbformat": 4,
 "nbformat_minor": 2
}
